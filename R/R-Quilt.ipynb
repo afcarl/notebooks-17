{
 "cells": [
  {
   "cell_type": "markdown",
   "metadata": {
    "collapsed": true
   },
   "source": [
    "Quilt R Notebooks come with a pre-initialized PostgresSQL connection\n",
    "to your data sets on quiltdata.com called 'qlt'. Find the database name for tables on Quilt in the \"Connect\" tab."
   ]
  },
  {
   "cell_type": "code",
   "execution_count": 5,
   "metadata": {
    "collapsed": false
   },
   "outputs": [],
   "source": [
    "res <- dbGetQuery(qlt, \"select * from giants_july_a1931962\")"
   ]
  },
  {
   "cell_type": "code",
   "execution_count": 3,
   "metadata": {
    "collapsed": false
   },
   "outputs": [
    {
     "data": {
      "text/html": [
       "<table>\n",
       "<thead><tr><th></th><th scope=col>qrid</th><th scope=col>ain_000</th><th scope=col>tra_001</th><th scope=col>admin_region_no_002</th><th scope=col>common_area_ky_003</th><th scope=col>yr_sold_to_state_004</th><th scope=col>recording_date_005</th><th scope=col>land_value_006</th><th scope=col>improvement_value_007</th><th scope=col>gpp_ky_008</th><th scope=col>⋯</th><th scope=col>ld_line1_044</th><th scope=col>ld_line2_045</th><th scope=col>ld_line3_046</th><th scope=col>ld_line4_047</th><th scope=col>ld_line_5_048</th><th scope=col>zoning_code_049</th><th scope=col>use_cde_050</th><th scope=col>effective_yr_051</th><th scope=col>yr_built_052</th><th scope=col>built_sq_ft_main_053</th></tr></thead>\n",
       "<tbody>\n",
       "\t<tr><th scope=row>1</th><td>1         </td><td>2004001003</td><td>16        </td><td>02        </td><td>0         </td><td>0         </td><td>20090529  </td><td>432000    </td><td>183000    </td><td>          </td><td>⋯         </td><td>          </td><td>          </td><td>          </td><td>          </td><td>          </td><td>LARE9     </td><td>0101      </td><td>1973      </td><td>1973      </td><td>2090      </td></tr>\n",
       "\t<tr><th scope=row>2</th><td>2         </td><td>2004001004</td><td>16        </td><td>02        </td><td>0         </td><td>0         </td><td>20091029  </td><td>314475    </td><td>217167    </td><td>          </td><td>⋯         </td><td>          </td><td>          </td><td>          </td><td>          </td><td>          </td><td>LARE9     </td><td>0101      </td><td>1973      </td><td>1973      </td><td>2479      </td></tr>\n",
       "\t<tr><th scope=row>3</th><td>3         </td><td>2004001005</td><td>16        </td><td>02        </td><td>0         </td><td>0         </td><td>20001207  </td><td>132853    </td><td>195295    </td><td>          </td><td>⋯         </td><td>          </td><td>          </td><td>          </td><td>          </td><td>          </td><td>LARE9     </td><td>0100      </td><td>1973      </td><td>1973      </td><td>2057      </td></tr>\n",
       "\t<tr><th scope=row>4</th><td>4         </td><td>2004001008</td><td>16        </td><td>02        </td><td>0         </td><td>0         </td><td>19790702  </td><td>108993    </td><td>188384    </td><td>          </td><td>⋯         </td><td>          </td><td>          </td><td>          </td><td>          </td><td>          </td><td>LARE11    </td><td>0101      </td><td>1978      </td><td>1978      </td><td>2423      </td></tr>\n",
       "\t<tr><th scope=row>5</th><td>5         </td><td>2004001009</td><td>16        </td><td>02        </td><td>0         </td><td>0         </td><td>19840619  </td><td>118763    </td><td>178238    </td><td>          </td><td>⋯         </td><td>          </td><td>          </td><td>          </td><td>          </td><td>          </td><td>LARE11    </td><td>0101      </td><td>1978      </td><td>1978      </td><td>2226      </td></tr>\n",
       "\t<tr><th scope=row>6</th><td>6         </td><td>2004001010</td><td>16        </td><td>02        </td><td>0         </td><td>0         </td><td>19790320  </td><td>105300    </td><td>178150    </td><td>          </td><td>⋯         </td><td>          </td><td>          </td><td>          </td><td>          </td><td>          </td><td>LARE11    </td><td>0101      </td><td>1978      </td><td>1978      </td><td>2423      </td></tr>\n",
       "\t<tr><th scope=row>7</th><td>7         </td><td>2004001011</td><td>16        </td><td>02        </td><td>0         </td><td>0         </td><td>20130507  </td><td>104015    </td><td>146612    </td><td>          </td><td>⋯         </td><td>          </td><td>          </td><td>          </td><td>          </td><td>          </td><td>LARE11    </td><td>0100      </td><td>1978      </td><td>1978      </td><td>2423      </td></tr>\n",
       "\t<tr><th scope=row>8</th><td>8         </td><td>2004001012</td><td>16        </td><td>02        </td><td>0         </td><td>0         </td><td>20090716  </td><td>387186    </td><td>230377    </td><td>          </td><td>⋯         </td><td>          </td><td>          </td><td>          </td><td>          </td><td>          </td><td>LARE11    </td><td>0100      </td><td>1978      </td><td>1978      </td><td>2226      </td></tr>\n",
       "\t<tr><th scope=row>9</th><td>9         </td><td>2004001013</td><td>16        </td><td>02        </td><td>0         </td><td>0         </td><td>20130927  </td><td>175583    </td><td>262630    </td><td>          </td><td>⋯         </td><td>          </td><td>          </td><td>          </td><td>          </td><td>          </td><td>LARE11    </td><td>0100      </td><td>1978      </td><td>1978      </td><td>2351      </td></tr>\n",
       "\t<tr><th scope=row>10</th><td>10        </td><td>2004001014</td><td>16        </td><td>02        </td><td>0         </td><td>0         </td><td>20120120  </td><td>271621    </td><td>232116    </td><td>          </td><td>⋯         </td><td>          </td><td>          </td><td>          </td><td>          </td><td>          </td><td>LARE11    </td><td>0100      </td><td>1978      </td><td>1978      </td><td>2423      </td></tr>\n",
       "</tbody>\n",
       "</table>\n"
      ],
      "text/latex": [
       "\\begin{tabular}{r|lllllllllllllllllllllllllllllllllllllllllllllllllllllll}\n",
       "  & qrid & ain\\_000 & tra\\_001 & admin\\_region\\_no\\_002 & common\\_area\\_ky\\_003 & yr\\_sold\\_to\\_state\\_004 & recording\\_date\\_005 & land\\_value\\_006 & improvement\\_value\\_007 & gpp\\_ky\\_008 & ⋯ & ld\\_line1\\_044 & ld\\_line2\\_045 & ld\\_line3\\_046 & ld\\_line4\\_047 & ld\\_line\\_5\\_048 & zoning\\_code\\_049 & use\\_cde\\_050 & effective\\_yr\\_051 & yr\\_built\\_052 & built\\_sq\\_ft\\_main\\_053\\\\\n",
       "\\hline\n",
       "\t1 & 1          & 2004001003 & 16         & 02         & 0          & 0          & 20090529   & 432000     & 183000     &            & ⋯          &            &            &            &            &            & LARE9      & 0101       & 1973       & 1973       & 2090      \\\\\n",
       "\t2 & 2          & 2004001004 & 16         & 02         & 0          & 0          & 20091029   & 314475     & 217167     &            & ⋯          &            &            &            &            &            & LARE9      & 0101       & 1973       & 1973       & 2479      \\\\\n",
       "\t3 & 3          & 2004001005 & 16         & 02         & 0          & 0          & 20001207   & 132853     & 195295     &            & ⋯          &            &            &            &            &            & LARE9      & 0100       & 1973       & 1973       & 2057      \\\\\n",
       "\t4 & 4          & 2004001008 & 16         & 02         & 0          & 0          & 19790702   & 108993     & 188384     &            & ⋯          &            &            &            &            &            & LARE11     & 0101       & 1978       & 1978       & 2423      \\\\\n",
       "\t5 & 5          & 2004001009 & 16         & 02         & 0          & 0          & 19840619   & 118763     & 178238     &            & ⋯          &            &            &            &            &            & LARE11     & 0101       & 1978       & 1978       & 2226      \\\\\n",
       "\t6 & 6          & 2004001010 & 16         & 02         & 0          & 0          & 19790320   & 105300     & 178150     &            & ⋯          &            &            &            &            &            & LARE11     & 0101       & 1978       & 1978       & 2423      \\\\\n",
       "\t7 & 7          & 2004001011 & 16         & 02         & 0          & 0          & 20130507   & 104015     & 146612     &            & ⋯          &            &            &            &            &            & LARE11     & 0100       & 1978       & 1978       & 2423      \\\\\n",
       "\t8 & 8          & 2004001012 & 16         & 02         & 0          & 0          & 20090716   & 387186     & 230377     &            & ⋯          &            &            &            &            &            & LARE11     & 0100       & 1978       & 1978       & 2226      \\\\\n",
       "\t9 & 9          & 2004001013 & 16         & 02         & 0          & 0          & 20130927   & 175583     & 262630     &            & ⋯          &            &            &            &            &            & LARE11     & 0100       & 1978       & 1978       & 2351      \\\\\n",
       "\t10 & 10         & 2004001014 & 16         & 02         & 0          & 0          & 20120120   & 271621     & 232116     &            & ⋯          &            &            &            &            &            & LARE11     & 0100       & 1978       & 1978       & 2423      \\\\\n",
       "\\end{tabular}\n"
      ],
      "text/plain": [
       "   qrid    ain_000 tra_001 admin_region_no_002 common_area_ky_003\n",
       "1     1 2004001003      16                  02                  0\n",
       "2     2 2004001004      16                  02                  0\n",
       "3     3 2004001005      16                  02                  0\n",
       "4     4 2004001008      16                  02                  0\n",
       "5     5 2004001009      16                  02                  0\n",
       "6     6 2004001010      16                  02                  0\n",
       "7     7 2004001011      16                  02                  0\n",
       "8     8 2004001012      16                  02                  0\n",
       "9     9 2004001013      16                  02                  0\n",
       "10   10 2004001014      16                  02                  0\n",
       "   yr_sold_to_state_004 recording_date_005 land_value_006 improvement_value_007\n",
       "1                     0           20090529         432000                183000\n",
       "2                     0           20091029         314475                217167\n",
       "3                     0           20001207         132853                195295\n",
       "4                     0           19790702         108993                188384\n",
       "5                     0           19840619         118763                178238\n",
       "6                     0           19790320         105300                178150\n",
       "7                     0           20130507         104015                146612\n",
       "8                     0           20090716         387186                230377\n",
       "9                     0           20130927         175583                262630\n",
       "10                    0           20120120         271621                232116\n",
       "   gpp_ky_008 ⋯ ld_line1_044 ld_line2_045 ld_line3_046 ld_line4_047\n",
       "1             ⋯                                                    \n",
       "2             ⋯                                                    \n",
       "3             ⋯                                                    \n",
       "4             ⋯                                                    \n",
       "5             ⋯                                                    \n",
       "6             ⋯                                                    \n",
       "7             ⋯                                                    \n",
       "8             ⋯                                                    \n",
       "9             ⋯                                                    \n",
       "10            ⋯                                                    \n",
       "   ld_line_5_048 zoning_code_049 use_cde_050 effective_yr_051 yr_built_052\n",
       "1                          LARE9        0101             1973         1973\n",
       "2                          LARE9        0101             1973         1973\n",
       "3                          LARE9        0100             1973         1973\n",
       "4                         LARE11        0101             1978         1978\n",
       "5                         LARE11        0101             1978         1978\n",
       "6                         LARE11        0101             1978         1978\n",
       "7                         LARE11        0100             1978         1978\n",
       "8                         LARE11        0100             1978         1978\n",
       "9                         LARE11        0100             1978         1978\n",
       "10                        LARE11        0100             1978         1978\n",
       "   built_sq_ft_main_053\n",
       "1                  2090\n",
       "2                  2479\n",
       "3                  2057\n",
       "4                  2423\n",
       "5                  2226\n",
       "6                  2423\n",
       "7                  2423\n",
       "8                  2226\n",
       "9                  2351\n",
       "10                 2423"
      ]
     },
     "metadata": {},
     "output_type": "display_data"
    }
   ],
   "source": [
    "res"
   ]
  },
  {
   "cell_type": "code",
   "execution_count": null,
   "metadata": {
    "collapsed": true
   },
   "outputs": [],
   "source": []
  }
 ],
 "metadata": {
  "kernelspec": {
   "display_name": "R",
   "language": "R",
   "name": "ir"
  },
  "language_info": {
   "codemirror_mode": "r",
   "file_extension": ".r",
   "mimetype": "text/x-r-source",
   "name": "R",
   "pygments_lexer": "r",
   "version": "3.2.2"
  }
 },
 "nbformat": 4,
 "nbformat_minor": 1
}
