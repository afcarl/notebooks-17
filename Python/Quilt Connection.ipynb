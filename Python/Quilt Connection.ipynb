{
 "cells": [
  {
   "cell_type": "code",
   "execution_count": 9,
   "metadata": {
    "collapsed": false
   },
   "outputs": [
    {
     "name": "stdout",
     "output_type": "stream",
     "text": [
      "[0027] Giants July\n"
     ]
    }
   ],
   "source": [
    "# All Quilt notebooks are initialized with a\n",
    "# connection to quiltdata.com named 'qlt'\n",
    "# Check out the complete Python API here:\n",
    "# https://github.com/quiltdata/python-api\n",
    "\n",
    "# You can use the connection to search for tables\n",
    "results = qlt.search('Giants')\n",
    "for t in results:\n",
    "    print(t)"
   ]
  },
  {
   "cell_type": "code",
   "execution_count": 12,
   "metadata": {
    "collapsed": false
   },
   "outputs": [
    {
     "data": {
      "text/plain": [
       "'giants_july_a1931962'"
      ]
     },
     "execution_count": 12,
     "metadata": {},
     "output_type": "execute_result"
    }
   ],
   "source": [
    "giants_attendance = results[0]\n",
    "giants_attendance.sqlname"
   ]
  },
  {
   "cell_type": "code",
   "execution_count": 11,
   "metadata": {
    "collapsed": false
   },
   "outputs": [
    {
     "data": {
      "text/html": [
       "<div>\n",
       "<table border=\"1\" class=\"dataframe\">\n",
       "  <thead>\n",
       "    <tr style=\"text-align: right;\">\n",
       "      <th></th>\n",
       "      <th>date_000</th>\n",
       "      <th>result_001</th>\n",
       "      <th>attendance_002</th>\n",
       "    </tr>\n",
       "    <tr>\n",
       "      <th>qrid</th>\n",
       "      <th></th>\n",
       "      <th></th>\n",
       "      <th></th>\n",
       "    </tr>\n",
       "  </thead>\n",
       "  <tbody>\n",
       "    <tr>\n",
       "      <th>1</th>\n",
       "      <td>2015-07-01</td>\n",
       "      <td>L 5-6</td>\n",
       "      <td>19,341</td>\n",
       "    </tr>\n",
       "    <tr>\n",
       "      <th>2</th>\n",
       "      <td>2015-07-02</td>\n",
       "      <td>L 4-5</td>\n",
       "      <td>32,598</td>\n",
       "    </tr>\n",
       "    <tr>\n",
       "      <th>3</th>\n",
       "      <td>2015-07-03</td>\n",
       "      <td>L 1-2</td>\n",
       "      <td>41,693</td>\n",
       "    </tr>\n",
       "    <tr>\n",
       "      <th>4</th>\n",
       "      <td>2015-07-04</td>\n",
       "      <td>L 3-9</td>\n",
       "      <td>40,029</td>\n",
       "    </tr>\n",
       "    <tr>\n",
       "      <th>5</th>\n",
       "      <td>2015-07-05</td>\n",
       "      <td>L 1-3</td>\n",
       "      <td>33,157</td>\n",
       "    </tr>\n",
       "    <tr>\n",
       "      <th>6</th>\n",
       "      <td>2015-07-06</td>\n",
       "      <td>L 0-3</td>\n",
       "      <td>42,247</td>\n",
       "    </tr>\n",
       "    <tr>\n",
       "      <th>7</th>\n",
       "      <td>2015-07-07</td>\n",
       "      <td>W 3-0</td>\n",
       "      <td>42,164</td>\n",
       "    </tr>\n",
       "    <tr>\n",
       "      <th>8</th>\n",
       "      <td>2015-07-08</td>\n",
       "      <td>L 1-4</td>\n",
       "      <td>41,914</td>\n",
       "    </tr>\n",
       "    <tr>\n",
       "      <th>9</th>\n",
       "      <td>2015-07-10</td>\n",
       "      <td>W 15-2</td>\n",
       "      <td>41,895</td>\n",
       "    </tr>\n",
       "    <tr>\n",
       "      <th>10</th>\n",
       "      <td>2015-07-11</td>\n",
       "      <td>W 8-5</td>\n",
       "      <td>41,980</td>\n",
       "    </tr>\n",
       "    <tr>\n",
       "      <th>11</th>\n",
       "      <td>2015-07-12</td>\n",
       "      <td>W 4-2</td>\n",
       "      <td>42,387</td>\n",
       "    </tr>\n",
       "    <tr>\n",
       "      <th>12</th>\n",
       "      <td>2015-07-17</td>\n",
       "      <td>W 6-5</td>\n",
       "      <td>26,922</td>\n",
       "    </tr>\n",
       "    <tr>\n",
       "      <th>13</th>\n",
       "      <td>2015-07-18</td>\n",
       "      <td>W 8-4</td>\n",
       "      <td>37,609</td>\n",
       "    </tr>\n",
       "    <tr>\n",
       "      <th>14</th>\n",
       "      <td>2015-07-19</td>\n",
       "      <td>W 2-1</td>\n",
       "      <td>27,173</td>\n",
       "    </tr>\n",
       "    <tr>\n",
       "      <th>15</th>\n",
       "      <td>2015-07-20</td>\n",
       "      <td>L 2-4</td>\n",
       "      <td>35,033</td>\n",
       "    </tr>\n",
       "    <tr>\n",
       "      <th>16</th>\n",
       "      <td>2015-07-21</td>\n",
       "      <td>W 9-3</td>\n",
       "      <td>35,596</td>\n",
       "    </tr>\n",
       "    <tr>\n",
       "      <th>17</th>\n",
       "      <td>2015-07-22</td>\n",
       "      <td>W 7-1</td>\n",
       "      <td>38,435</td>\n",
       "    </tr>\n",
       "    <tr>\n",
       "      <th>18</th>\n",
       "      <td>2015-07-24</td>\n",
       "      <td>W 9-3</td>\n",
       "      <td>42,128</td>\n",
       "    </tr>\n",
       "    <tr>\n",
       "      <th>19</th>\n",
       "      <td>2015-07-25</td>\n",
       "      <td>W 2-1</td>\n",
       "      <td>42,162</td>\n",
       "    </tr>\n",
       "    <tr>\n",
       "      <th>20</th>\n",
       "      <td>2015-07-26</td>\n",
       "      <td>W 4-3</td>\n",
       "      <td>42,034</td>\n",
       "    </tr>\n",
       "    <tr>\n",
       "      <th>21</th>\n",
       "      <td>2015-07-27</td>\n",
       "      <td>W 4-2</td>\n",
       "      <td>41,988</td>\n",
       "    </tr>\n",
       "    <tr>\n",
       "      <th>22</th>\n",
       "      <td>2015-07-28</td>\n",
       "      <td>L 2-5</td>\n",
       "      <td>42,743</td>\n",
       "    </tr>\n",
       "    <tr>\n",
       "      <th>23</th>\n",
       "      <td>2015-07-29</td>\n",
       "      <td>W 5-0</td>\n",
       "      <td>42,352</td>\n",
       "    </tr>\n",
       "    <tr>\n",
       "      <th>24</th>\n",
       "      <td>2015-07-31</td>\n",
       "      <td>L 3-6</td>\n",
       "      <td></td>\n",
       "    </tr>\n",
       "  </tbody>\n",
       "</table>\n",
       "</div>"
      ],
      "text/plain": [
       "        date_000 result_001 attendance_002\n",
       "qrid                                      \n",
       "1     2015-07-01      L 5-6         19,341\n",
       "2     2015-07-02      L 4-5         32,598\n",
       "3     2015-07-03      L 1-2         41,693\n",
       "4     2015-07-04      L 3-9         40,029\n",
       "5     2015-07-05      L 1-3         33,157\n",
       "6     2015-07-06      L 0-3         42,247\n",
       "7     2015-07-07      W 3-0         42,164\n",
       "8     2015-07-08      L 1-4         41,914\n",
       "9     2015-07-10     W 15-2         41,895\n",
       "10    2015-07-11      W 8-5         41,980\n",
       "11    2015-07-12      W 4-2         42,387\n",
       "12    2015-07-17      W 6-5         26,922\n",
       "13    2015-07-18      W 8-4         37,609\n",
       "14    2015-07-19      W 2-1         27,173\n",
       "15    2015-07-20      L 2-4         35,033\n",
       "16    2015-07-21      W 9-3         35,596\n",
       "17    2015-07-22      W 7-1         38,435\n",
       "18    2015-07-24      W 9-3         42,128\n",
       "19    2015-07-25      W 2-1         42,162\n",
       "20    2015-07-26      W 4-3         42,034\n",
       "21    2015-07-27      W 4-2         41,988\n",
       "22    2015-07-28      L 2-5         42,743\n",
       "23    2015-07-29      W 5-0         42,352\n",
       "24    2015-07-31      L 3-6               "
      ]
     },
     "execution_count": 11,
     "metadata": {},
     "output_type": "execute_result"
    }
   ],
   "source": [
    "# Pull table data into a dataframe with df()\n",
    "df = giants_attendance.df()\n",
    "df"
   ]
  },
  {
   "cell_type": "code",
   "execution_count": null,
   "metadata": {
    "collapsed": true
   },
   "outputs": [],
   "source": []
  }
 ],
 "metadata": {
  "kernelspec": {
   "display_name": "Python 3",
   "language": "python",
   "name": "python3"
  },
  "language_info": {
   "codemirror_mode": {
    "name": "ipython",
    "version": 3
   },
   "file_extension": ".py",
   "mimetype": "text/x-python",
   "name": "python",
   "nbconvert_exporter": "python",
   "pygments_lexer": "ipython3",
   "version": "3.5.2"
  }
 },
 "nbformat": 4,
 "nbformat_minor": 1
}
